{
 "cells": [
  {
   "cell_type": "code",
   "execution_count": 1,
   "id": "7fee02cd-a8d6-49b0-bdba-adc4e8247239",
   "metadata": {},
   "outputs": [],
   "source": [
    "#Solution"
   ]
  },
  {
   "cell_type": "code",
   "execution_count": 2,
   "id": "7f62b1bb-6533-4277-8808-168d9f1828f5",
   "metadata": {},
   "outputs": [
    {
     "name": "stdout",
     "output_type": "stream",
     "text": [
      "\n",
      "\tDetails of vehicles:\n",
      " ('ALTO', 120, 22)\n",
      "\n",
      "\tAfter changing the new details are:\n",
      " ('SWIFT', 130, 25)\n"
     ]
    }
   ],
   "source": [
    "#Q1.\n",
    "\n",
    "class vehicle:\n",
    "    def __init__(self,name_of_vehicle,max_speed,average_of_vehicle):\n",
    "        self.name = name_of_vehicle\n",
    "        self.max = max_speed\n",
    "        self.avg = average_of_vehicle\n",
    "    def get_details(self):\n",
    "        return self.name , self.max , self.avg\n",
    "    def set_details(self,name_veh,speed,avg):\n",
    "        self.name = name_veh\n",
    "        self.max = speed\n",
    "        self.avg = avg\n",
    "ob = vehicle(\"ALTO\",120,22)\n",
    "print(\"\\n\\tDetails of vehicles:\\n\" ,ob.get_details())\n",
    "ob.set_details(\"SWIFT\",130,25)\n",
    "print(\"\\n\\tAfter changing the new details are:\\n\",ob.get_details())"
   ]
  },
  {
   "cell_type": "code",
   "execution_count": 7,
   "id": "38d1aeaf-1a9e-4ab1-b9eb-b40379971596",
   "metadata": {},
   "outputs": [
    {
     "name": "stdout",
     "output_type": "stream",
     "text": [
      "\n",
      "\tParent class details before change its items\n",
      " ('ALTO', 120, 22)\n",
      "\n",
      "\tChild class items are:\n",
      " ('ALTO', 4)\n",
      "\n",
      "\tParent class details after change its items\n",
      " ('NANO', 90, 18)\n",
      "\n",
      "\tAfter changing parent class affect on Child class items are:\n",
      " ('NANO', 4)\n"
     ]
    }
   ],
   "source": [
    "# Q2.\n",
    "class child(vehicle):\n",
    "    def seating_capacity(self,capacity):\n",
    "        self.capacity=capacity\n",
    "        return self.name,self.capacity\n",
    "ob1 = child(\"ALTO\",120,22)\n",
    "print(\"\\n\\tParent class details before change its items\\n\",ob1.get_details())\n",
    "print(\"\\n\\tChild class items are:\\n\",ob1.seating_capacity(4))\n",
    "ob1.set_details(\"NANO\",90,18)\n",
    "print(\"\\n\\tParent class details after change its items\\n\",ob1.get_details())\n",
    "print(\"\\n\\tAfter changing parent class affect on Child class items are:\\n\",ob1.seating_capacity(4))\n"
   ]
  },
  {
   "cell_type": "code",
   "execution_count": 25,
   "id": "12e13d8f-fa89-44b1-b110-e3e34d684276",
   "metadata": {},
   "outputs": [
    {
     "name": "stdout",
     "output_type": "stream",
     "text": [
      "\n",
      "        When a class is derived from more than one base class it is called multiple Inheritance. \n",
      "        The derived class inherits all the features of the base case.\n",
      "        \n",
      "In Class2\n"
     ]
    }
   ],
   "source": [
    "\n",
    "#Q3.\n",
    "\n",
    "print('''\n",
    "        When a class is derived from more than one base class it is called multiple Inheritance. \n",
    "        The derived class inherits all the features of the base case.\n",
    "        ''')\n",
    "class Class1:\n",
    "    def m1(self):\n",
    "        print(\"In Class1\")\n",
    "       \n",
    "class Class2:\n",
    "    def m2(self):\n",
    "        print(\"In Class2\")\n",
    " \n",
    "class Class3:\n",
    "    def m3(self):\n",
    "        print(\"In Class3\") \n",
    "        \n",
    "class Class4(Class1,Class2, Class3):\n",
    "    pass  \n",
    "     \n",
    "obj = Class4()\n",
    "obj.m2()"
   ]
  },
  {
   "cell_type": "code",
   "execution_count": 16,
   "id": "837a68c4-afa6-4a64-ba15-7ec2aa0bd6a6",
   "metadata": {},
   "outputs": [
    {
     "name": "stdout",
     "output_type": "stream",
     "text": [
      "\n",
      "\t\n",
      "        the main purpose of using getters and setters in object-oriented programs is to ensure data encapsulation\n",
      "        We use getters & setters to add validation logic around getting and setting a value.\n",
      "        To avoid direct access of a class field i.e. private variables cannot be accessed directly or modified by external user.\n",
      "        Using property() function to achieve getters and setters behaviour\n",
      "        property()is a built-in function that creates and returns a property object. A property object has three methods, getter(), setter(), and delete().\n",
      "       \n",
      " \n"
     ]
    }
   ],
   "source": [
    "#Q4.\n",
    "\n",
    "print('''\\n\\t\n",
    "        the main purpose of using getters and setters in object-oriented programs is to ensure data encapsulation\n",
    "        We use getters & setters to add validation logic around getting and setting a value.\n",
    "        To avoid direct access of a class field i.e. private variables cannot be accessed directly or modified by external user.\n",
    "        Using property() function to achieve getters and setters behaviour\n",
    "        property()is a built-in function that creates and returns a property object. A property object has three methods, getter(), setter(), and delete().\n",
    "       \\n ''')\n",
    "\n",
    "class Age:\n",
    "    def __init__(self):\n",
    "          self._age = 0\n",
    "       \n",
    "     # function to get value of _age\n",
    "    @property\n",
    "    def get_age(self):\n",
    "        print(\"getter method called\")\n",
    "        return self._age\n",
    "       \n",
    "     # function to set value of _age\n",
    "    @get_age.setter\n",
    "    def set_age(self, a):\n",
    "        print(\"setter method called\")\n",
    "        self._age = a\n",
    "  \n",
    "     # function to delete _age attribute\n",
    "    @get_age.deleter\n",
    "    def del_age(self):\n",
    "        del self._age\n",
    "     \n",
    "    # age = property(get_age, set_age, del_age) \n",
    "  \n",
    "\n",
    "  \n",
    "# mark.age = 10\n",
    "  \n",
    "# print(mark.age)"
   ]
  },
  {
   "cell_type": "code",
   "execution_count": 17,
   "id": "dda94a09-8619-411f-935a-0ed85c4de795",
   "metadata": {},
   "outputs": [],
   "source": [
    "\n",
    "ob = Age()"
   ]
  },
  {
   "cell_type": "code",
   "execution_count": 18,
   "id": "eef9820b-6cbc-413b-a6da-3dd2fd8a0f4b",
   "metadata": {},
   "outputs": [
    {
     "name": "stdout",
     "output_type": "stream",
     "text": [
      "getter method called\n"
     ]
    },
    {
     "data": {
      "text/plain": [
       "0"
      ]
     },
     "execution_count": 18,
     "metadata": {},
     "output_type": "execute_result"
    }
   ],
   "source": [
    "ob.get_age"
   ]
  },
  {
   "cell_type": "code",
   "execution_count": 19,
   "id": "747230fc-3e62-4821-a174-3232422a4595",
   "metadata": {},
   "outputs": [
    {
     "name": "stdout",
     "output_type": "stream",
     "text": [
      "setter method called\n"
     ]
    }
   ],
   "source": [
    "ob.set_age=18"
   ]
  },
  {
   "cell_type": "code",
   "execution_count": 20,
   "id": "328f5a6c-b048-465d-a37e-50b3d3060e4c",
   "metadata": {},
   "outputs": [
    {
     "name": "stdout",
     "output_type": "stream",
     "text": [
      "getter method called\n"
     ]
    },
    {
     "data": {
      "text/plain": [
       "18"
      ]
     },
     "execution_count": 20,
     "metadata": {},
     "output_type": "execute_result"
    }
   ],
   "source": [
    "ob.get_age"
   ]
  },
  {
   "cell_type": "code",
   "execution_count": 23,
   "id": "55fd416d-da1e-4662-90dd-909af78243d8",
   "metadata": {},
   "outputs": [],
   "source": [
    "del ob.del_age"
   ]
  },
  {
   "cell_type": "code",
   "execution_count": 24,
   "id": "04b8c002-9015-44ee-807f-00f59e940110",
   "metadata": {},
   "outputs": [
    {
     "name": "stdout",
     "output_type": "stream",
     "text": [
      "getter method called\n"
     ]
    },
    {
     "ename": "AttributeError",
     "evalue": "'Age' object has no attribute '_age'",
     "output_type": "error",
     "traceback": [
      "\u001b[0;31m---------------------------------------------------------------------------\u001b[0m",
      "\u001b[0;31mAttributeError\u001b[0m                            Traceback (most recent call last)",
      "Cell \u001b[0;32mIn[24], line 1\u001b[0m\n\u001b[0;32m----> 1\u001b[0m \u001b[43mob\u001b[49m\u001b[38;5;241;43m.\u001b[39;49m\u001b[43mget_age\u001b[49m\n",
      "Cell \u001b[0;32mIn[16], line 19\u001b[0m, in \u001b[0;36mAge.get_age\u001b[0;34m(self)\u001b[0m\n\u001b[1;32m     16\u001b[0m \u001b[38;5;129m@property\u001b[39m\n\u001b[1;32m     17\u001b[0m \u001b[38;5;28;01mdef\u001b[39;00m \u001b[38;5;21mget_age\u001b[39m(\u001b[38;5;28mself\u001b[39m):\n\u001b[1;32m     18\u001b[0m     \u001b[38;5;28mprint\u001b[39m(\u001b[38;5;124m\"\u001b[39m\u001b[38;5;124mgetter method called\u001b[39m\u001b[38;5;124m\"\u001b[39m)\n\u001b[0;32m---> 19\u001b[0m     \u001b[38;5;28;01mreturn\u001b[39;00m \u001b[38;5;28;43mself\u001b[39;49m\u001b[38;5;241;43m.\u001b[39;49m\u001b[43m_age\u001b[49m\n",
      "\u001b[0;31mAttributeError\u001b[0m: 'Age' object has no attribute '_age'"
     ]
    }
   ],
   "source": [
    "ob.get_age"
   ]
  },
  {
   "cell_type": "code",
   "execution_count": 26,
   "id": "1446ff86-6d9d-45e5-bc0c-0d50ec144364",
   "metadata": {},
   "outputs": [
    {
     "name": "stdout",
     "output_type": "stream",
     "text": [
      "\n",
      "        Method overriding in Python is when you have two methods with the same name that each perform different tasks\n",
      "        In method overriding, the child class can change its functions that are defined by its ancestral classes. \n",
      "        In other words, the child class has access to the properties and functions of the parent class method while also extending additional functions of its own to the method. \n",
      "        If a method in a superclass coincides with that of a subclass, then the subclass is said to override the superclass.\n",
      "        \n"
     ]
    }
   ],
   "source": [
    "#Q5.\n",
    "\n",
    "print('''\n",
    "        Method overriding in Python is when you have two methods with the same name that each perform different tasks\n",
    "        In method overriding, the child class can change its functions that are defined by its ancestral classes. \n",
    "        In other words, the child class has access to the properties and functions of the parent class method while also extending additional functions of its own to the method. \n",
    "        If a method in a superclass coincides with that of a subclass, then the subclass is said to override the superclass.\n",
    "        ''')\n",
    "\n",
    "class Parent():\n",
    "      \n",
    "    # Constructor\n",
    "    def __init__(self):\n",
    "        self.value = \"Inside Parent\"\n",
    "          \n",
    "    # Parent's show method\n",
    "    def show(self):\n",
    "        print(self.value)\n",
    "          \n",
    "# Defining child class\n",
    "class Child(Parent):\n",
    "      \n",
    "    # Constructor\n",
    "    def __init__(self):\n",
    "        self.value = \"Inside Child\"\n",
    "          \n",
    "    # Child's show method\n",
    "    def show(self):\n",
    "        print(self.value)"
   ]
  },
  {
   "cell_type": "code",
   "execution_count": 27,
   "id": "d5d4459b-fe39-4d29-84cd-a55039e74134",
   "metadata": {},
   "outputs": [],
   "source": [
    "ob1=Parent()"
   ]
  },
  {
   "cell_type": "code",
   "execution_count": 28,
   "id": "0a555a44-7098-48ae-a0a7-315bcf6c77c7",
   "metadata": {},
   "outputs": [],
   "source": [
    "ob2=Child()"
   ]
  },
  {
   "cell_type": "code",
   "execution_count": 29,
   "id": "65a51d34-509f-48da-a0cd-3b671f4a2680",
   "metadata": {},
   "outputs": [
    {
     "name": "stdout",
     "output_type": "stream",
     "text": [
      "Inside Parent\n"
     ]
    }
   ],
   "source": [
    "ob1.show()"
   ]
  },
  {
   "cell_type": "code",
   "execution_count": 30,
   "id": "6b1e26fc-c1dd-4c46-aa3d-e50db923e7f3",
   "metadata": {},
   "outputs": [
    {
     "name": "stdout",
     "output_type": "stream",
     "text": [
      "Inside Child\n"
     ]
    }
   ],
   "source": [
    "ob2.show()"
   ]
  },
  {
   "cell_type": "code",
   "execution_count": 31,
   "id": "de42a038-2ace-4694-bb15-f58c55b66848",
   "metadata": {},
   "outputs": [],
   "source": [
    "# here in the code show() is come in two different class so this is method overriding"
   ]
  },
  {
   "cell_type": "code",
   "execution_count": null,
   "id": "482ae3e2-9842-45cc-8b2f-9a1ab333195c",
   "metadata": {},
   "outputs": [],
   "source": []
  }
 ],
 "metadata": {
  "kernelspec": {
   "display_name": "Python 3 (ipykernel)",
   "language": "python",
   "name": "python3"
  },
  "language_info": {
   "codemirror_mode": {
    "name": "ipython",
    "version": 3
   },
   "file_extension": ".py",
   "mimetype": "text/x-python",
   "name": "python",
   "nbconvert_exporter": "python",
   "pygments_lexer": "ipython3",
   "version": "3.10.8"
  }
 },
 "nbformat": 4,
 "nbformat_minor": 5
}
